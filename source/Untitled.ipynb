{
 "cells": [
  {
   "cell_type": "code",
   "execution_count": 1,
   "metadata": {},
   "outputs": [
    {
     "name": "stdout",
     "output_type": "stream",
     "text": [
      "C:\\Users\\mike\\PycharmProjects\\Projekt_lijstbewerken\\\\file_in\\201922020.csv\n"
     ]
    }
   ],
   "source": [
    "import pandas as pd\n",
    "import os\n",
    "\n",
    "path = os.getcwd\n",
    "myfile = r\"\\file_in\\201922020.csv\"\n",
    "output_file =r\"\\bestanden\\output.csv\"\n",
    "\n",
    "pad = os.path.join('C:\\\\Users\\\\mike\\\\PycharmProjects\\\\Projekt_lijstbewerken\\\\' + myfile)\n",
    "pad_out = os.path.join('C:\\\\Users\\\\mike\\\\PycharmProjects\\\\Projekt_lijstbewerken\\\\' + output_file)\n",
    "print(pad)"
   ]
  },
  {
   "cell_type": "code",
   "execution_count": 2,
   "metadata": {},
   "outputs": [
    {
     "name": "stdout",
     "output_type": "stream",
     "text": [
      "done\n"
     ]
    }
   ],
   "source": [
    "\n",
    "# dit is file die ingelezen wordt\n",
    "with open(\"file_in/201964718inschiet.csv\", \"r\", encoding=\"utf-8\") as target:\n",
    "    readline = target.readlines()\n",
    "    \n",
    "    \n",
    "# hier word een nieuwe file met wikkel gemaakt    \n",
    "with open(\"file_in/201964718inschiet_met_wikkel.csv\", \"w\", encoding=\"utf-8\") as target:\n",
    "    target.writelines(readline[0:2])\n",
    "    \n",
    "    target.writelines(\";stans.pdf\\n\" * 40)\n",
    "    \n",
    "    beginblok = 1\n",
    "    eindblok = 1001\n",
    "    \n",
    "    for wikkel in range(150):\n",
    "        target.writelines(\";stans.pdf\\n\" * 4)\n",
    "        target.writelines(readline[beginblok:eindblok])\n",
    "        \n",
    "        beginblok += 1000\n",
    "        eindblok += 1000\n",
    "        \n",
    "    target.writelines(\";stans.pdf\\n\" * 40)\n",
    "    target.writelines(readline[-1:])\n",
    "    \n",
    "print(\"done\")"
   ]
  },
  {
   "cell_type": "code",
   "execution_count": 3,
   "metadata": {},
   "outputs": [
    {
     "data": {
      "text/html": [
       "<div>\n",
       "<style scoped>\n",
       "    .dataframe tbody tr th:only-of-type {\n",
       "        vertical-align: middle;\n",
       "    }\n",
       "\n",
       "    .dataframe tbody tr th {\n",
       "        vertical-align: top;\n",
       "    }\n",
       "\n",
       "    .dataframe thead th {\n",
       "        text-align: right;\n",
       "    }\n",
       "</style>\n",
       "<table border=\"1\" class=\"dataframe\">\n",
       "  <thead>\n",
       "    <tr style=\"text-align: right;\">\n",
       "      <th></th>\n",
       "      <th>nummers;pdf</th>\n",
       "    </tr>\n",
       "  </thead>\n",
       "  <tbody>\n",
       "    <tr>\n",
       "      <th>0</th>\n",
       "      <td>01-00-00-01;spie.pdf</td>\n",
       "    </tr>\n",
       "    <tr>\n",
       "      <th>1</th>\n",
       "      <td>01-00-00-02;spie.pdf</td>\n",
       "    </tr>\n",
       "    <tr>\n",
       "      <th>2</th>\n",
       "      <td>01-00-00-03;spie.pdf</td>\n",
       "    </tr>\n",
       "    <tr>\n",
       "      <th>3</th>\n",
       "      <td>01-00-00-04;spie.pdf</td>\n",
       "    </tr>\n",
       "    <tr>\n",
       "      <th>4</th>\n",
       "      <td>01-00-00-05;spie.pdf</td>\n",
       "    </tr>\n",
       "    <tr>\n",
       "      <th>...</th>\n",
       "      <td>...</td>\n",
       "    </tr>\n",
       "    <tr>\n",
       "      <th>995</th>\n",
       "      <td>01-00-09-96;spie.pdf</td>\n",
       "    </tr>\n",
       "    <tr>\n",
       "      <th>996</th>\n",
       "      <td>01-00-09-97;spie.pdf</td>\n",
       "    </tr>\n",
       "    <tr>\n",
       "      <th>997</th>\n",
       "      <td>01-00-09-98;spie.pdf</td>\n",
       "    </tr>\n",
       "    <tr>\n",
       "      <th>998</th>\n",
       "      <td>01-00-09-99;spie.pdf</td>\n",
       "    </tr>\n",
       "    <tr>\n",
       "      <th>999</th>\n",
       "      <td>01-00-10-00;spie.pdf</td>\n",
       "    </tr>\n",
       "  </tbody>\n",
       "</table>\n",
       "<p>1000 rows × 1 columns</p>\n",
       "</div>"
      ],
      "text/plain": [
       "              nummers;pdf\n",
       "0    01-00-00-01;spie.pdf\n",
       "1    01-00-00-02;spie.pdf\n",
       "2    01-00-00-03;spie.pdf\n",
       "3    01-00-00-04;spie.pdf\n",
       "4    01-00-00-05;spie.pdf\n",
       "..                    ...\n",
       "995  01-00-09-96;spie.pdf\n",
       "996  01-00-09-97;spie.pdf\n",
       "997  01-00-09-98;spie.pdf\n",
       "998  01-00-09-99;spie.pdf\n",
       "999  01-00-10-00;spie.pdf\n",
       "\n",
       "[1000 rows x 1 columns]"
      ]
     },
     "execution_count": 3,
     "metadata": {},
     "output_type": "execute_result"
    }
   ],
   "source": [
    "df = pd.read_csv(\"file_in/201964718inschiet.csv\")\n",
    "df.head(10)\n",
    "\n",
    "df.iloc[0:1000]"
   ]
  },
  {
   "cell_type": "code",
   "execution_count": 4,
   "metadata": {},
   "outputs": [
    {
     "data": {
      "text/plain": [
       "1000"
      ]
     },
     "execution_count": 4,
     "metadata": {},
     "output_type": "execute_result"
    }
   ],
   "source": [
    "df_lijst=[]\n",
    "\n",
    "\n",
    "for begin_nummer in range(0,len(df),1000):\n",
    "    a_df = df.iloc[begin_nummer: (begin_nummer+1000)]\n",
    "#     print(begin_nummer, begin_nummer+1000)\n",
    "    df_lijst.append(a_df)\n",
    "\n",
    "df1=df_lijst[0]\n",
    "df2=df_lijst[1]\n",
    "len(df2)"
   ]
  },
  {
   "cell_type": "code",
   "execution_count": 5,
   "metadata": {},
   "outputs": [],
   "source": [
    "combinatie_samenvoegen = pd.concat([df1, df2], axis=1)\n",
    "combinatie_samenvoegen.to_csv(\"file_out/test2020.csv\", \";\", encoding=\"utf-8\", index=0)\n"
   ]
  },
  {
   "cell_type": "code",
   "execution_count": 53,
   "metadata": {},
   "outputs": [],
   "source": [
    "def mes_9(lissst, ordernum):\n",
    "    \"\"\"builds  and concats 4 files over axis 1\n",
    "    mes waarde toevoegen en list comporhension\n",
    "\n",
    "    \"\"\"\n",
    "    stapel = []\n",
    "    for index in range((len(lissst))):\n",
    "        print(index)\n",
    "        a = lissst[index][0]\n",
    "        b = lissst[index][1]\n",
    "        c = lissst[index][2]\n",
    "        d = lissst[index][3]\n",
    "\n",
    "        color_1 = f\"Baan_{index + 1:>{0}{3}}\"\n",
    "        color_2 = f\"{index}b\"\n",
    "\n",
    "        file_1 = pd.read_csv(f\"{path}{a}\", \",\", dtype=\"str\")\n",
    "        file_2 = pd.read_csv(f\"{path}{b}\", \",\", dtype=\"str\")\n",
    "\n",
    "        file_3 = pd.read_csv(f\"{path}{c}\", \",\", dtype=\"str\")\n",
    "        file_4 = pd.read_csv(f\"{path}{d}\", \",\", dtype=\"str\")\n",
    "\n",
    "        combinatie_samenvoegen = pd.concat([file_1, file_2, file_3, file_4], axis=1)\n",
    "\n",
    "        combinatie_samenvoegen.columns = [\n",
    "            \"num_1\",\n",
    "            \"omschrijving_1\",\n",
    "            \"pdf_1\",\n",
    "            \"num_2\",\n",
    "            \"omschrijving_2\",\n",
    "            \"pdf_2\",\n",
    "            \"num_3\",\n",
    "            \"omschrijving_3\",\n",
    "            \"pdf_3\",\n",
    "            \"num_4\",\n",
    "            \"omschrijving_4\",\n",
    "            \"pdf_4\",\n",
    "        ]\n",
    "        # kolomnamen_samenvoegen = (\";\").join([f\"'omschrijving_{num}','pdf_{num}'\" for num in range(1,mes+1)])\n",
    "\n",
    "        # samengevoeg_3.fillna({'pdf_1':\"stans.pdf\",'pdf_2':\"stans.pdf\",'pdf_3':\"stans.pdf\"}, inplace=True)\n",
    "\n",
    "        combinatie_samenvoegen.to_csv(\n",
    "            f\"{path_vdp}{ordernummer}_{color_1}nieuw.csv\", \";\", encoding=\"utf-8\"\n",
    "        )\n"
   ]
  },
  {
   "cell_type": "code",
   "execution_count": 58,
   "metadata": {},
   "outputs": [],
   "source": [
    "SMALL_CHUNK = 1000\n",
    "\n",
    "def write_chunk(source_file, start, end, dest_name):\n",
    "    pos = start\n",
    "    source_file.seek(pos)\n",
    "    with open(dest_name, 'w') as dest_file:\n",
    "        for chunk_start in range(start, end, SMALL_CHUNK):\n",
    "            chunk_end = min(chunk_start + SMALL_CHUNK, end)\n",
    "            dest_file.write(source_file.read(chunk_end - chunk_start))\n",
    "            \n"
   ]
  },
  {
   "cell_type": "code",
   "execution_count": 60,
   "metadata": {},
   "outputs": [
    {
     "ename": "NameError",
     "evalue": "name 'filehandler' is not defined",
     "output_type": "error",
     "traceback": [
      "\u001b[1;31m---------------------------------------------------------------------------\u001b[0m",
      "\u001b[1;31mNameError\u001b[0m                                 Traceback (most recent call last)",
      "\u001b[1;32m<ipython-input-60-4240f7377c5f>\u001b[0m in \u001b[0;36m<module>\u001b[1;34m\u001b[0m\n\u001b[0;32m      1\u001b[0m \u001b[1;32mimport\u001b[0m \u001b[0mcsv\u001b[0m\u001b[1;33m\u001b[0m\u001b[1;33m\u001b[0m\u001b[0m\n\u001b[1;32m----> 2\u001b[1;33m \u001b[0mreader\u001b[0m \u001b[1;33m=\u001b[0m \u001b[0mcsv\u001b[0m\u001b[1;33m.\u001b[0m\u001b[0mreader\u001b[0m\u001b[1;33m(\u001b[0m\u001b[0mfilehandler\u001b[0m\u001b[1;33m,\u001b[0m \u001b[0mdelimiter\u001b[0m\u001b[1;33m=\u001b[0m\u001b[0mdelimiter\u001b[0m\u001b[1;33m)\u001b[0m\u001b[1;33m\u001b[0m\u001b[1;33m\u001b[0m\u001b[0m\n\u001b[0m\u001b[0;32m      3\u001b[0m \u001b[0mcurrent_piece\u001b[0m \u001b[1;33m=\u001b[0m \u001b[1;36m1\u001b[0m\u001b[1;33m\u001b[0m\u001b[1;33m\u001b[0m\u001b[0m\n\u001b[0;32m      4\u001b[0m current_out_path = os.path.join(\n\u001b[0;32m      5\u001b[0m      \u001b[0moutput_path\u001b[0m\u001b[1;33m,\u001b[0m\u001b[1;33m\u001b[0m\u001b[1;33m\u001b[0m\u001b[0m\n",
      "\u001b[1;31mNameError\u001b[0m: name 'filehandler' is not defined"
     ]
    }
   ],
   "source": []
  }
 ],
 "metadata": {
  "kernelspec": {
   "display_name": "Python 3",
   "language": "python",
   "name": "python3"
  },
  "language_info": {
   "codemirror_mode": {
    "name": "ipython",
    "version": 3
   },
   "file_extension": ".py",
   "mimetype": "text/x-python",
   "name": "python",
   "nbconvert_exporter": "python",
   "pygments_lexer": "ipython3",
   "version": "3.7.5"
  },
  "pycharm": {
   "stem_cell": {
    "cell_type": "raw",
    "metadata": {
     "collapsed": false
    },
    "source": []
   }
  }
 },
 "nbformat": 4,
 "nbformat_minor": 2
}
