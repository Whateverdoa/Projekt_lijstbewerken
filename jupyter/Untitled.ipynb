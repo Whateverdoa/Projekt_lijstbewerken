{
 "cells": [
  {
   "cell_type": "code",
   "execution_count": 39,
   "metadata": {},
   "outputs": [],
   "source": [
    "import pandas as pd\n",
    "mes=15"
   ]
  },
  {
   "cell_type": "code",
   "execution_count": 4,
   "metadata": {},
   "outputs": [],
   "source": [
    "filein = 'bestanden\\201922020.csv'\n",
    "# # for num in range(lengte):\n",
    "#     a=0\n",
    "#     if df_sorted.aantal[a:num].sum() > 38000:\n",
    "#         print(df_sorted.aantal[0:num])"
   ]
  },
  {
   "cell_type": "code",
   "execution_count": 52,
   "metadata": {},
   "outputs": [
    {
     "name": "stdout",
     "output_type": "stream",
     "text": [
      "['num_1,', 'pdf_1,', 'omschrijving_1,', 'num_2,', 'pdf_2,', 'omschrijving_2,', 'num_3,', 'pdf_3,', 'omschrijving_3,', 'num_4,', 'pdf_4,', 'omschrijving_4,']\n"
     ]
    }
   ],
   "source": [
    "def kol_naam_lijst_builder(mes=1):\n",
    "    kollomnaamlijst=[]\n",
    "\n",
    "    for count in range(1,mes+1):\n",
    "        # 5 = len (list) of mes\n",
    "        num = f\"num_{count}\"\n",
    "        omschrijving = f\"omschrijving_{count}\"\n",
    "        pdf = f\"pdf_{count}\"\n",
    "        kollomnaamlijst.append(num)\n",
    "        kollomnaamlijst.append(pdf)\n",
    "        kollomnaamlijst.append(omschrijving)\n",
    "\n",
    "\n",
    "    # return [\"id\"] + kollomnaamlijst\n",
    "    return kollomnaamlijst\n",
    "\n",
    "\n",
    "print(kol_naam_lijst_builder(4))"
   ]
  },
  {
   "cell_type": "code",
   "execution_count": 59,
   "metadata": {},
   "outputs": [],
   "source": [
    "def list_to_string(functie):\n",
    "    kolom_namen = \"\"\n",
    "    for kolomnamen in functie:\n",
    "        kolom_namen += kolomnamen\n",
    "        \n",
    "    return kolom_namen[:-1] +\"\\n\""
   ]
  },
  {
   "cell_type": "code",
   "execution_count": 60,
   "metadata": {},
   "outputs": [
    {
     "data": {
      "text/plain": [
       "'num_1,pdf_1,omschrijving_1,num_2,pdf_2,omschrijving_2,num_3,pdf_3,omschrijving_3,num_4,pdf_4,omschrijving_4\\n'"
      ]
     },
     "execution_count": 60,
     "metadata": {},
     "output_type": "execute_result"
    }
   ],
   "source": [
    "list_to_string(kol_naam_lijst_builder(4))"
   ]
  },
  {
   "cell_type": "code",
   "execution_count": 62,
   "metadata": {},
   "outputs": [],
   "source": [
    "def kolom_naam_gever_num_pdf_omschrijving(mes=1):\n",
    "    \n",
    "    def list_to_string(functie):\n",
    "        kolom_namen = \"\"\n",
    "        for kolomnamen in functie:\n",
    "            kolom_namen += kolomnamen + \",\"\n",
    "        return kolom_namen[:-1] +\"\\n\"\n",
    "    \n",
    "    kollomnaamlijst=[]\n",
    "\n",
    "    for count in range(1,mes+1):\n",
    "        # 5 = len (list) of mes\n",
    "        num = f\"num_{count}\"\n",
    "        omschrijving = f\"omschrijving_{count}\"\n",
    "        pdf = f\"pdf_{count}\"\n",
    "        kollomnaamlijst.append(num)        \n",
    "        kollomnaamlijst.append(pdf)\n",
    "        kollomnaamlijst.append(omschrijving)\n",
    "        \n",
    "    namen = list_to_string(kollomnaamlijst)\n",
    "    \n",
    "    return namen\n",
    "        \n",
    "    "
   ]
  },
  {
   "cell_type": "code",
   "execution_count": 63,
   "metadata": {},
   "outputs": [
    {
     "data": {
      "text/plain": [
       "'num_1,pdf_1,omschrijving_1,num_2,pdf_2,omschrijving_2,num_3,pdf_3,omschrijving_3,num_4,pdf_4,omschrijving_4,num_5,pdf_5,omschrijving_5,num_6,pdf_6,omschrijving_6,num_7,pdf_7,omschrijving_7,num_8,pdf_8,omschrijving_8,num_9,pdf_9,omschrijving_9,num_10,pdf_10,omschrijving_10,num_11,pdf_11,omschrijving_11,num_12,pdf_12,omschrijving_12,num_13,pdf_13,omschrijving_13,num_14,pdf_14,omschrijving_14,num_15,pdf_15,omschrijving_15\\n'"
      ]
     },
     "execution_count": 63,
     "metadata": {},
     "output_type": "execute_result"
    }
   ],
   "source": [
    "kolom_naam_gever_num_pdf_omschrijving(15)"
   ]
  },
  {
   "cell_type": "code",
   "execution_count": 34,
   "metadata": {},
   "outputs": [],
   "source": [
    "# \".,stans.pdf,,.,stans.pdf,,.,stans.pdf,,.,stans.pdf,,.,stans.pdf,,\\n\""
   ]
  },
  {
   "cell_type": "code",
   "execution_count": 40,
   "metadata": {},
   "outputs": [
    {
     "data": {
      "text/plain": [
       "'.,stans.pdf,,.,stans.pdf,,.,stans.pdf,,.,stans.pdf,,.,stans.pdf,,.,stans.pdf,,.,stans.pdf,,.,stans.pdf,,.,stans.pdf,,.,stans.pdf,,.,stans.pdf,,.,stans.pdf,,.,stans.pdf,,.,stans.pdf,,.,stans.pdf,,\\n'"
      ]
     },
     "execution_count": 40,
     "metadata": {},
     "output_type": "execute_result"
    }
   ],
   "source": [
    "inlooplijst = (\".,stans.pdf,,\"*mes)+\"\\n\"\n",
    "inlooplijst"
   ]
  },
  {
   "cell_type": "code",
   "execution_count": 51,
   "metadata": {},
   "outputs": [
    {
     "data": {
      "text/plain": [
       "['num_1,pdf_1,omschrijving_1',\n",
       " 'num_2,pdf_2,omschrijving_2',\n",
       " 'num_3,pdf_3,omschrijving_3',\n",
       " 'num_4,pdf_4,omschrijving_4',\n",
       " 'num_5,pdf_5,omschrijving_5',\n",
       " 'num_6,pdf_6,omschrijving_6',\n",
       " 'num_7,pdf_7,omschrijving_7',\n",
       " 'num_8,pdf_8,omschrijving_8',\n",
       " 'num_9,pdf_9,omschrijving_9',\n",
       " 'num_10,pdf_10,omschrijving_10',\n",
       " 'num_11,pdf_11,omschrijving_11',\n",
       " 'num_12,pdf_12,omschrijving_12',\n",
       " 'num_13,pdf_13,omschrijving_13',\n",
       " 'num_14,pdf_14,omschrijving_14',\n",
       " 'num_15,pdf_15,omschrijving_15',\n",
       " '\\n']"
      ]
     },
     "execution_count": 51,
     "metadata": {},
     "output_type": "execute_result"
    }
   ],
   "source": [
    "[f'num_{count+1},pdf_{count+1},omschrijving_{count+1}' for count in range(mes)] +[\"\\n\"]"
   ]
  }
 ],
 "metadata": {
  "kernelspec": {
   "display_name": "Python 3",
   "language": "python",
   "name": "python3"
  },
  "language_info": {
   "codemirror_mode": {
    "name": "ipython",
    "version": 3
   },
   "file_extension": ".py",
   "mimetype": "text/x-python",
   "name": "python",
   "nbconvert_exporter": "python",
   "pygments_lexer": "ipython3",
   "version": "3.7.0"
  }
 },
 "nbformat": 4,
 "nbformat_minor": 2
}
